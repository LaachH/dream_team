{
 "cells": [
  {
   "cell_type": "code",
   "execution_count": 12,
   "metadata": {},
   "outputs": [
    {
     "name": "stderr",
     "output_type": "stream",
     "text": [
      "[nltk_data] Downloading package vader_lexicon to\n",
      "[nltk_data]     C:\\Users\\gunin\\AppData\\Roaming\\nltk_data...\n",
      "[nltk_data]   Package vader_lexicon is already up-to-date!\n"
     ]
    },
    {
     "data": {
      "text/plain": [
       "True"
      ]
     },
     "execution_count": 12,
     "metadata": {},
     "output_type": "execute_result"
    }
   ],
   "source": [
    "from tokenize import String\n",
    "from textblob import TextBlob as tb\n",
    "import pandas as pd\n",
    "import re\n",
    "import nltk\n",
    "from nltk.sentiment import SentimentIntensityAnalyzer as Sia\n",
    "from gensim.parsing.preprocessing import remove_stopwords\n",
    "from pathlib import Path\n",
    "from collections import defaultdict\n",
    "\n",
    "%matplotlib inline\n",
    "\n",
    "nltk.download('vader_lexicon')\n",
    "\n",
    "\n"
   ]
  },
  {
   "cell_type": "markdown",
   "metadata": {},
   "source": [
    "## Data"
   ]
  },
  {
   "cell_type": "code",
   "execution_count": 13,
   "metadata": {},
   "outputs": [
    {
     "name": "stderr",
     "output_type": "stream",
     "text": [
      "b'Skipping line 731: expected 8 fields, saw 13\\nSkipping line 2836: expected 8 fields, saw 15\\nSkipping line 3058: expected 8 fields, saw 12\\nSkipping line 3113: expected 8 fields, saw 12\\nSkipping line 3194: expected 8 fields, saw 17\\nSkipping line 3205: expected 8 fields, saw 17\\nSkipping line 3255: expected 8 fields, saw 17\\nSkipping line 3520: expected 8 fields, saw 17\\nSkipping line 4078: expected 8 fields, saw 17\\nSkipping line 4087: expected 8 fields, saw 17\\nSkipping line 4088: expected 8 fields, saw 17\\nSkipping line 4499: expected 8 fields, saw 12\\n'\n"
     ]
    }
   ],
   "source": [
    "sia = Sia()\n",
    "emoji_raw = pd.read_html(\"https://kt.ijs.si/data/Emoji_sentiment_ranking\")\n",
    "emoji_lookup_df = emoji_raw[0][['Char', 'Sentiment score[-1...+1]']]\n",
    "emoji_lookup_df.rename(columns={'Sentiment score[-1...+1]': 'sentiment_score'}, inplace = True)\n",
    "\n",
    "\n",
    "csv_path = Path(\"stockerbot-export.csv\")\n",
    "tweet_df = pd.read_csv(csv_path, error_bad_lines=False)\n",
    "\n"
   ]
  },
  {
   "cell_type": "markdown",
   "metadata": {},
   "source": [
    "## Funnction definitions"
   ]
  },
  {
   "cell_type": "code",
   "execution_count": 14,
   "metadata": {},
   "outputs": [],
   "source": [
    "def clean_text(input_str: str) -> str:\n",
    "    input_str = input_str.lower()\n",
    "    input_str = re.sub(\"[^A-Za-z0-9]\",\" \",input_str)\n",
    "    input_str = re.sub(r'^https?:\\/\\/.*[\\r\\n]*', '', input_str, flags=re.MULTILINE)\n",
    "    input_str = re.sub(r\"www.\\S+\",'',input_str)\n",
    "    input_str = remove_stopwords(input_str)\n",
    "    return input_str\n",
    "\n",
    "def get_tb_score(text: str) -> float:\n",
    "    return tb(text).sentiment[0]\n",
    "\n",
    "def get_nltk_score(text: str) -> float:\n",
    "    return sia.polarity_scores(text)['compound']\n",
    "\n",
    "def build_sentiment_df(tweet_dataframe, target_column):\n",
    "    # getting the corresponding data in lists\n",
    "    raw_tweets = tweet_dataframe[target_column].tolist()\n",
    "    cleaned_tweets = [clean_text(i) for i in raw_tweets]\n",
    "    tb_polarity = [tb(i).sentiment[0] for i in cleaned_tweets]\n",
    "    nltk_polarity = [sia.polarity_scores(i)['compound'] for i in cleaned_tweets]\n",
    "    \n",
    "    # building the dataframe\n",
    "    final_df = pd.DataFrame()\n",
    "    final_df['tweets'] = raw_tweets\n",
    "    final_df['cleaned_tweets'] = cleaned_tweets\n",
    "    final_df['textblob_polarity'] = tb_polarity\n",
    "    final_df['nltk_polarity'] = nltk_polarity\n",
    "\n",
    "    final_df = final_df[final_df['tweets'].apply(lambda x: len(x.split(',')) < 280)]\n",
    "    final_df = final_df.drop_duplicates()\n",
    "    final_df = final_df[final_df['tweets'].str.contains(\"RT \") == False] \n",
    "\n",
    "    return final_df\n",
    "\n",
    "def get_emoji_count(tweet_df):\n",
    "    emoji_count = defaultdict(int)\n",
    "    for i in tweet_df['tweets']:\n",
    "        for emoji in re.findall(u'[\\U0001f300-\\U0001f650]', i):\n",
    "            emoji_count[emoji] += 1\n",
    "\n",
    "    return emoji_count\n"
   ]
  },
  {
   "cell_type": "code",
   "execution_count": 16,
   "metadata": {},
   "outputs": [],
   "source": [
    "emoji_data = get_emoji_count(build_sentiment_df(tweet_df, 'text'))\n"
   ]
  },
  {
   "cell_type": "code",
   "execution_count": 17,
   "metadata": {},
   "outputs": [
    {
     "data": {
      "text/plain": [
       "[('💰', 420),\n",
       " ('🙌', 262),\n",
       " ('😍', 261),\n",
       " ('💸', 256),\n",
       " ('😊', 223),\n",
       " ('💎', 216),\n",
       " ('📈', 165),\n",
       " ('📉', 54),\n",
       " ('🔥', 54),\n",
       " ('🌕', 43),\n",
       " ('📢', 34),\n",
       " ('🎉', 32),\n",
       " ('💵', 21),\n",
       " ('👀', 18),\n",
       " ('👍', 18),\n",
       " ('🌑', 18),\n",
       " ('😂', 18),\n",
       " ('👇', 15),\n",
       " ('😎', 12),\n",
       " ('📣', 12),\n",
       " ('🔹', 11),\n",
       " ('💕', 11),\n",
       " ('🏻', 10),\n",
       " ('😉', 9),\n",
       " ('💼', 7),\n",
       " ('💳', 7),\n",
       " ('🕘', 6),\n",
       " ('🔔', 6),\n",
       " ('💪', 5),\n",
       " ('👈', 5),\n",
       " ('🙄', 5),\n",
       " ('😘', 5),\n",
       " ('🔰', 5),\n",
       " ('💲', 4),\n",
       " ('🍾', 4),\n",
       " ('💯', 4),\n",
       " ('🏼', 4),\n",
       " ('🐂', 4),\n",
       " ('😋', 4),\n",
       " ('🏽', 3),\n",
       " ('📊', 3),\n",
       " ('😀', 3),\n",
       " ('😳', 3),\n",
       " ('💥', 3),\n",
       " ('😜', 3),\n",
       " ('🔌', 2),\n",
       " ('🗣', 2),\n",
       " ('🎼', 2),\n",
       " ('🙏', 2),\n",
       " ('🕵', 2),\n",
       " ('😅', 2),\n",
       " ('👁', 2),\n",
       " ('😈', 2),\n",
       " ('👽', 2),\n",
       " ('🔐', 2),\n",
       " ('💩', 2),\n",
       " ('👉', 2),\n",
       " ('🌊', 2),\n",
       " ('👏', 2),\n",
       " ('😁', 2),\n",
       " ('🖐', 2),\n",
       " ('😝', 2),\n",
       " ('👙', 2),\n",
       " ('💜', 2),\n",
       " ('🌭', 2),\n",
       " ('😱', 2),\n",
       " ('🍑', 2),\n",
       " ('😄', 2),\n",
       " ('🗡', 1),\n",
       " ('🍪', 1),\n",
       " ('🐔', 1),\n",
       " ('😭', 1),\n",
       " ('🍕', 1),\n",
       " ('🍺', 1),\n",
       " ('👟', 1),\n",
       " ('💞', 1),\n",
       " ('💘', 1),\n",
       " ('🙆', 1),\n",
       " ('📅', 1),\n",
       " ('🎲', 1),\n",
       " ('📡', 1),\n",
       " ('🐻', 1),\n",
       " ('😆', 1),\n",
       " ('🔝', 1),\n",
       " ('🔍', 1),\n",
       " ('💛', 1),\n",
       " ('🎊', 1),\n",
       " ('😨', 1),\n",
       " ('📰', 1),\n",
       " ('🗓', 1),\n",
       " ('👆', 1),\n",
       " ('🌐', 1),\n",
       " ('😃', 1),\n",
       " ('🐒', 1),\n",
       " ('😲', 1),\n",
       " ('💖', 1),\n",
       " ('😤', 1),\n",
       " ('💋', 1),\n",
       " ('🏨', 1),\n",
       " ('🏖', 1),\n",
       " ('😬', 1),\n",
       " ('👊', 1),\n",
       " ('🍋', 1),\n",
       " ('😼', 1),\n",
       " ('🏆', 1),\n",
       " ('🔸', 1),\n",
       " ('👦', 1),\n",
       " ('🕷', 1),\n",
       " ('😒', 1),\n",
       " ('🎵', 1),\n",
       " ('🎶', 1),\n",
       " ('😌', 1),\n",
       " ('🏴', 1),\n",
       " ('🌧', 1),\n",
       " ('🔵', 1)]"
      ]
     },
     "execution_count": 17,
     "metadata": {},
     "output_type": "execute_result"
    }
   ],
   "source": [
    "sort_count = sorted(emoji_data.items(), key=lambda x: x[1], reverse=True)\n",
    "sort_count"
   ]
  },
  {
   "cell_type": "code",
   "execution_count": 18,
   "metadata": {},
   "outputs": [],
   "source": [
    "emoji_sample = sort_count[0:20]\n",
    "q = emoji_sample[0][0]"
   ]
  },
  {
   "cell_type": "code",
   "execution_count": 19,
   "metadata": {},
   "outputs": [
    {
     "name": "stdout",
     "output_type": "stream",
     "text": [
      "147    0.251\n",
      "Name: sentiment_score, dtype: float64\n"
     ]
    }
   ],
   "source": [
    "print(emoji_lookup_df.loc[emoji_lookup_df.Char == q, 'sentiment_score'])"
   ]
  },
  {
   "cell_type": "code",
   "execution_count": 22,
   "metadata": {},
   "outputs": [],
   "source": [
    "def group_emojis(counts):\n",
    "    pos_lst=[]\n",
    "    neg_lst=[]\n",
    "    for emoji in counts:\n",
    "        score = emoji_lookup_df.loc[emoji_lookup_df.Char == emoji[0], 'sentiment_score']\n",
    "        if score.values < 0:\n",
    "            neg_lst.append(emoji)\n",
    "        else:\n",
    "            pos_lst.append(emoji)\n",
    "    return pos_lst[0:7], neg_lst"
   ]
  },
  {
   "cell_type": "code",
   "execution_count": 23,
   "metadata": {},
   "outputs": [
    {
     "name": "stderr",
     "output_type": "stream",
     "text": [
      "C:\\Users\\gunin\\anaconda3\\envs\\pyvizenv\\lib\\site-packages\\ipykernel_launcher.py:6: DeprecationWarning: The truth value of an empty array is ambiguous. Returning False, but in future this will result in an error. Use `array.size > 0` to check that an array is not empty.\n",
      "  \n"
     ]
    },
    {
     "data": {
      "text/plain": [
       "([('💰', 420),\n",
       "  ('🙌', 262),\n",
       "  ('😍', 261),\n",
       "  ('💸', 256),\n",
       "  ('😊', 223),\n",
       "  ('💎', 216),\n",
       "  ('📈', 165)],\n",
       " [('🔌', 2), ('💩', 2), ('😭', 1), ('😨', 1), ('😲', 1), ('😤', 1), ('😒', 1)])"
      ]
     },
     "execution_count": 23,
     "metadata": {},
     "output_type": "execute_result"
    }
   ],
   "source": [
    "group_emojis(sort_count)"
   ]
  },
  {
   "cell_type": "code",
   "execution_count": null,
   "metadata": {},
   "outputs": [],
   "source": []
  }
 ],
 "metadata": {
  "interpreter": {
   "hash": "26c32f0e801c7b54eb43f90599afad54466488a395c6c9c66e59c59c792a9305"
  },
  "kernelspec": {
   "display_name": "Python 3.7.11 ('base')",
   "language": "python",
   "name": "python3"
  },
  "language_info": {
   "codemirror_mode": {
    "name": "ipython",
    "version": 3
   },
   "file_extension": ".py",
   "mimetype": "text/x-python",
   "name": "python",
   "nbconvert_exporter": "python",
   "pygments_lexer": "ipython3",
   "version": "3.7.11"
  },
  "orig_nbformat": 4
 },
 "nbformat": 4,
 "nbformat_minor": 2
}
